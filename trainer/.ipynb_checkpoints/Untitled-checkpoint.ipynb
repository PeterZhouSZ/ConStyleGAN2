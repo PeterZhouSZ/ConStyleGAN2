{
 "cells": [
  {
   "cell_type": "code",
   "execution_count": 100,
   "id": "hundred-hypothetical",
   "metadata": {},
   "outputs": [],
   "source": [
    "import torch.nn as nn\n",
    "import torch \n",
    "from torchvision import  utils\n",
    "import os \n",
    "import torch.nn.functional as F\n",
    "import PIL\n",
    "import numpy as np\n",
    "from PIL import Image \n"
   ]
  },
  {
   "cell_type": "code",
   "execution_count": 101,
   "id": "consistent-aside",
   "metadata": {},
   "outputs": [],
   "source": [
    "x = torch.load('../fake_img').cpu()\n",
    "mask = torch.load('../global_seg').cpu()"
   ]
  },
  {
   "cell_type": "code",
   "execution_count": 129,
   "id": "sharp-watershed",
   "metadata": {},
   "outputs": [],
   "source": [
    "class Mask_Enlarger(nn.Module):\n",
    "    def __init__(self):\n",
    "        super().__init__()\n",
    "        self.conv = nn.Conv2d(1,1,3,1,1, bias=False)\n",
    "        self.conv.weight.data.fill_(1/9)\n",
    "        \n",
    "        for param in self.parameters():\n",
    "            param.requires_grad = False\n",
    "            \n",
    "    def forward(self, input, hard=1, soft=1):\n",
    "        \"\"\"\n",
    "        soft means we apply 3*3 conv, and boundary values will have non-binaray value\n",
    "        hard means after 3*3 conv as long as value is non zero, we will convert it into 1 \n",
    "        \"\"\"\n",
    "        assert hard + soft > 0 \n",
    "        \n",
    "        if hard>0:\n",
    "            x = input\n",
    "            for _ in range(hard):\n",
    "                x = self.conv(x) \n",
    "                x[x!=0] = 1 \n",
    "\n",
    "        if soft>0:\n",
    "            x = x if hard>0 else input\n",
    "            for _ in range(soft):\n",
    "                x = self.conv(x)\n",
    "\n",
    "        return torch.clamp(input+x ,0 ,1)\n",
    "\n",
    "\n"
   ]
  },
  {
   "cell_type": "code",
   "execution_count": 102,
   "id": "adult-australia",
   "metadata": {},
   "outputs": [],
   "source": [
    "class PartialConv(nn.Module):\n",
    "    def __init__(self, kernel_size=3):\n",
    "        super().__init__()\n",
    "        \"Bigger kernel size are, more pixels will be dialated\"\n",
    "        \n",
    "        assert kernel_size in [3,5,7]\n",
    "        padding = kernel_size // 2   \n",
    "        \n",
    "        self.kernel_size = kernel_size               \n",
    "        self.mask_conv = nn.Conv2d(1, 1, kernel_size, 1, padding, bias=False)        \n",
    "        self.mask_conv.weight.data.fill_(1.0)\n",
    "        \n",
    "        self.input_conv = nn.Conv2d(3, 3, kernel_size, 1, padding, bias=False) \n",
    "        for i in range(3):\n",
    "            init = torch.zeros(3,kernel_size,kernel_size)\n",
    "            init[i,:,:] = 1/(kernel_size*kernel_size) \n",
    "            self.input_conv.weight.data[i] = init\n",
    "                   \n",
    "        for param in self.parameters():\n",
    "            param.requires_grad = False\n",
    "             \n",
    " \n",
    "    def forward(self, input, mask, return_new_mask = False):\n",
    "\n",
    "        output = self.input_conv( input*mask )\n",
    "        mask = self.mask_conv(mask)\n",
    "\n",
    "        no_update_holes = mask == 0\n",
    "        mask_ratio = (self.kernel_size*self.kernel_size) / mask.masked_fill_(no_update_holes, 1.0)\n",
    "\n",
    "        output = output * mask_ratio \n",
    "        output = output.masked_fill_(no_update_holes, 0.0)\n",
    "\n",
    "        if not return_new_mask:\n",
    "            return output\n",
    "        else:\n",
    "            new_mask = 1-no_update_holes*1\n",
    "            return output, new_mask.float()\n"
   ]
  },
  {
   "cell_type": "code",
   "execution_count": 123,
   "id": "continent-resort",
   "metadata": {},
   "outputs": [],
   "source": [
    "class RGB_Enlarger(nn.Module):\n",
    "    def __init__(self):\n",
    "        super().__init__()\n",
    "        self.enlarger = PartialConv()\n",
    "        self.mask_enlarger = Mask_Enlarger()\n",
    " \n",
    "    def __call__(self, x, mask):   \n",
    "  \n",
    "        enlarged_x, enlarged_mask = x, mask\n",
    "        for _ in range(3):\n",
    "            enlarged_x, enlarged_mask = self.enlarger(enlarged_x, enlarged_mask, True)\n",
    "\n",
    " \n",
    "        return enlarged_x "
   ]
  },
  {
   "cell_type": "code",
   "execution_count": 124,
   "id": "breathing-lodging",
   "metadata": {},
   "outputs": [],
   "source": [
    "rgb_enlarger = RGB_Enlarger()"
   ]
  },
  {
   "cell_type": "code",
   "execution_count": 125,
   "id": "voluntary-signal",
   "metadata": {},
   "outputs": [],
   "source": [
    "out = rgb_enlarger(  x,mask )"
   ]
  },
  {
   "cell_type": "code",
   "execution_count": 126,
   "id": "alive-democracy",
   "metadata": {},
   "outputs": [],
   "source": [
    "torchvision.utils.save_image(out, 'x.png', normalize=True, range=(-1,1)  )"
   ]
  },
  {
   "cell_type": "code",
   "execution_count": 18,
   "id": "fewer-father",
   "metadata": {},
   "outputs": [],
   "source": [
    "import torchvision "
   ]
  },
  {
   "cell_type": "code",
   "execution_count": 78,
   "id": "amber-completion",
   "metadata": {},
   "outputs": [],
   "source": []
  },
  {
   "cell_type": "code",
   "execution_count": null,
   "id": "impressed-fundamentals",
   "metadata": {},
   "outputs": [],
   "source": []
  },
  {
   "cell_type": "code",
   "execution_count": null,
   "id": "obvious-figure",
   "metadata": {},
   "outputs": [],
   "source": []
  },
  {
   "cell_type": "code",
   "execution_count": null,
   "id": "twenty-healing",
   "metadata": {},
   "outputs": [],
   "source": []
  }
 ],
 "metadata": {
  "kernelspec": {
   "display_name": "Python 3",
   "language": "python",
   "name": "python3"
  },
  "language_info": {
   "codemirror_mode": {
    "name": "ipython",
    "version": 3
   },
   "file_extension": ".py",
   "mimetype": "text/x-python",
   "name": "python",
   "nbconvert_exporter": "python",
   "pygments_lexer": "ipython3",
   "version": "3.8.3"
  }
 },
 "nbformat": 4,
 "nbformat_minor": 5
}
